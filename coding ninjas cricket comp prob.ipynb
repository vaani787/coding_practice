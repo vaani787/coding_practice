{
 "cells": [
  {
   "cell_type": "raw",
   "metadata": {},
   "source": [
    "There are ‘n’ number of villages. You are given an array of size ‘n’ representing the population of each village. Every year, there is a cricket competition between two teams and villagers who come to see the match. Villagers from ith village and (n-i)-1th village (0 <= i < n/2) are combined and then formed groups of 10 people each. For e.g. villagers from villages 0 and n-1, 1 and n-2, 2 and n-3 are combined. The number of villages is always even. So, clearly there will be n/2 combinations from all the villages. You have to tell how many groups will be formed in each combination and how many villagers will be left without the complete group of 10 peoples."
   ]
  },
  {
   "cell_type": "raw",
   "metadata": {},
   "source": [
    "Input Format:\n",
    "First-line will have a single integer ‘n’ denotes the number of villages.\n",
    "The second line will have ‘n’ space-separated integers denoting the population of villages.\n",
    "Output format:\n",
    "Print ‘n/2’ lines of two space-separated integers, first will be no. of groups and second will be villagers left without a group. The first line will have the result of a combination of 0 and n-1, second will have 1 and n-2 and so on."
   ]
  },
  {
   "cell_type": "raw",
   "metadata": {},
   "source": [
    "Sample Input:\n",
    "10\n",
    "26 96 18 24 87 51 44 86 75 32\n",
    "Sample Output:\n",
    "5 8\n",
    "17 1\n",
    "10 4\n",
    "6 8\n",
    "13 8"
   ]
  },
  {
   "cell_type": "code",
   "execution_count": 15,
   "metadata": {},
   "outputs": [
    {
     "name": "stdout",
     "output_type": "stream",
     "text": [
      "10\n",
      "16\n",
      "2343\n",
      "5465\n",
      "2432\n",
      "35\n",
      "234\n",
      "133\n",
      "64\n",
      "765\n",
      "353\n"
     ]
    }
   ],
   "source": [
    "n = int(input())\n",
    "A=[]\n",
    "for i in range(n):\n",
    "    A.append(int(input()))"
   ]
  },
  {
   "cell_type": "code",
   "execution_count": 16,
   "metadata": {},
   "outputs": [],
   "source": [
    "def func(A):\n",
    "    sum=[]\n",
    "    for i in range(int(n/2)):\n",
    "        sum.append(A[i]+A[n-i-1])\n",
    "        print(int(sum[i]/10), sum[i]%10)\n",
    "    \n",
    "        print(\"\\n\")\n",
    "        "
   ]
  },
  {
   "cell_type": "code",
   "execution_count": 17,
   "metadata": {},
   "outputs": [
    {
     "name": "stdout",
     "output_type": "stream",
     "text": [
      "36 9\n",
      "\n",
      "\n",
      "310 8\n",
      "\n",
      "\n",
      "552 9\n",
      "\n",
      "\n",
      "256 5\n",
      "\n",
      "\n",
      "26 9\n",
      "\n",
      "\n"
     ]
    }
   ],
   "source": [
    "func(A)"
   ]
  },
  {
   "cell_type": "code",
   "execution_count": null,
   "metadata": {},
   "outputs": [],
   "source": []
  }
 ],
 "metadata": {
  "kernelspec": {
   "display_name": "Python 3",
   "language": "python",
   "name": "python3"
  },
  "language_info": {
   "codemirror_mode": {
    "name": "ipython",
    "version": 3
   },
   "file_extension": ".py",
   "mimetype": "text/x-python",
   "name": "python",
   "nbconvert_exporter": "python",
   "pygments_lexer": "ipython3",
   "version": "3.7.0"
  }
 },
 "nbformat": 4,
 "nbformat_minor": 2
}
