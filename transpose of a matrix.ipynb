{
 "cells": [
  {
   "cell_type": "code",
   "execution_count": 1,
   "metadata": {},
   "outputs": [],
   "source": [
    "import numpy as np"
   ]
  },
  {
   "cell_type": "code",
   "execution_count": 2,
   "metadata": {},
   "outputs": [],
   "source": [
    "grid=[['.','.','.','.','.','.'],\n",
    "['.','0','0','.','.','.'],\n",
    "['0','0','0','0','.','.'],\n",
    "['0','0','0','0','0','.'],\n",
    "['.','0','0','0','0','0'],\n",
    "['0','0','0','0','0','.'],\n",
    "['0','0','0','0','.','.'],\n",
    "['.','0','0','.','.','.'],\n",
    "['.','.','.','.','.','.']] "
   ]
  },
  {
   "cell_type": "code",
   "execution_count": 3,
   "metadata": {},
   "outputs": [
    {
     "data": {
      "text/plain": [
       "'.'"
      ]
     },
     "execution_count": 3,
     "metadata": {},
     "output_type": "execute_result"
    }
   ],
   "source": [
    "grid[0][0]"
   ]
  },
  {
   "cell_type": "code",
   "execution_count": 4,
   "metadata": {},
   "outputs": [
    {
     "data": {
      "text/plain": [
       "[[0, 0, 0, 0, 0, 0, 0, 0, 0],\n",
       " [0, 0, 0, 0, 0, 0, 0, 0, 0],\n",
       " [0, 0, 0, 0, 0, 0, 0, 0, 0],\n",
       " [0, 0, 0, 0, 0, 0, 0, 0, 0],\n",
       " [0, 0, 0, 0, 0, 0, 0, 0, 0],\n",
       " [0, 0, 0, 0, 0, 0, 0, 0, 0]]"
      ]
     },
     "execution_count": 4,
     "metadata": {},
     "output_type": "execute_result"
    }
   ],
   "source": [
    "rows, cols = (6, 9) \n",
    "transpose = [[0]*cols]*rows\n",
    "transpose\n"
   ]
  },
  {
   "cell_type": "markdown",
   "metadata": {},
   "source": [
    "# method 1"
   ]
  },
  {
   "cell_type": "code",
   "execution_count": 5,
   "metadata": {},
   "outputs": [
    {
     "name": "stdout",
     "output_type": "stream",
     "text": [
      "['.', '.', '.', '.', '.', '.']\n",
      "['.', '0', '0', '.', '.', '.']\n",
      "['0', '0', '0', '0', '.', '.']\n",
      "['0', '0', '0', '0', '0', '.']\n",
      "['.', '0', '0', '0', '0', '0']\n",
      "['0', '0', '0', '0', '0', '.']\n",
      "['0', '0', '0', '0', '.', '.']\n",
      "['.', '0', '0', '.', '.', '.']\n",
      "['.', '.', '.', '.', '.', '.']\n",
      "\n",
      "\n",
      "['.', '.', '0', '0', '.', '0', '0', '.', '.']\n",
      "['.', '0', '0', '0', '0', '0', '0', '0', '.']\n",
      "['.', '0', '0', '0', '0', '0', '0', '0', '.']\n",
      "['.', '.', '0', '0', '0', '0', '0', '.', '.']\n",
      "['.', '.', '.', '0', '0', '0', '.', '.', '.']\n",
      "['.', '.', '.', '.', '0', '.', '.', '.', '.']\n"
     ]
    }
   ],
   "source": [
    "for row in grid : \n",
    "    print(row) \n",
    "rez = [[grid[j][i] for j in range(len(grid))] for i in range(len(grid[0]))] \n",
    "print(\"\\n\") \n",
    "for row in rez: \n",
    "    print(row)"
   ]
  },
  {
   "cell_type": "code",
   "execution_count": 6,
   "metadata": {},
   "outputs": [
    {
     "data": {
      "text/plain": [
       "[['.', '.', '0', '0', '.', '0', '0', '.', '.'],\n",
       " ['.', '0', '0', '0', '0', '0', '0', '0', '.'],\n",
       " ['.', '0', '0', '0', '0', '0', '0', '0', '.'],\n",
       " ['.', '.', '0', '0', '0', '0', '0', '.', '.'],\n",
       " ['.', '.', '.', '0', '0', '0', '.', '.', '.'],\n",
       " ['.', '.', '.', '.', '0', '.', '.', '.', '.']]"
      ]
     },
     "execution_count": 6,
     "metadata": {},
     "output_type": "execute_result"
    }
   ],
   "source": [
    "rez"
   ]
  },
  {
   "cell_type": "markdown",
   "metadata": {},
   "source": [
    "# method 2 using numpy"
   ]
  },
  {
   "cell_type": "code",
   "execution_count": 7,
   "metadata": {},
   "outputs": [
    {
     "data": {
      "text/plain": [
       "array([['.', '.', '0', '0', '.', '0', '0', '.', '.'],\n",
       "       ['.', '0', '0', '0', '0', '0', '0', '0', '.'],\n",
       "       ['.', '0', '0', '0', '0', '0', '0', '0', '.'],\n",
       "       ['.', '.', '0', '0', '0', '0', '0', '.', '.'],\n",
       "       ['.', '.', '.', '0', '0', '0', '.', '.', '.'],\n",
       "       ['.', '.', '.', '.', '0', '.', '.', '.', '.']], dtype='<U1')"
      ]
     },
     "execution_count": 7,
     "metadata": {},
     "output_type": "execute_result"
    }
   ],
   "source": [
    "np.transpose(grid)"
   ]
  },
  {
   "cell_type": "code",
   "execution_count": 8,
   "metadata": {},
   "outputs": [],
   "source": [
    "grid=[['.','.','.','.','.','.'],\n",
    "['.','0','0','.','.','.'],\n",
    "['0','0','0','0','.','.'],\n",
    "['0','0','0','0','0','.'],\n",
    "['.','0','0','0','0','0'],\n",
    "['0','0','0','0','0','.'],\n",
    "['0','0','0','0','.','.'],\n",
    "['.','0','0','.','.','.'],\n",
    "['.','.','.','.','.','.']] \n"
   ]
  },
  {
   "cell_type": "markdown",
   "metadata": {},
   "source": [
    "# method 3\n"
   ]
  },
  {
   "cell_type": "code",
   "execution_count": 9,
   "metadata": {},
   "outputs": [],
   "source": [
    "transpose = []\n",
    "for i in range(6):\n",
    "    transpose.append([row[i] for row in grid])"
   ]
  },
  {
   "cell_type": "code",
   "execution_count": 10,
   "metadata": {},
   "outputs": [
    {
     "data": {
      "text/plain": [
       "[['.', '.', '0', '0', '.', '0', '0', '.', '.'],\n",
       " ['.', '0', '0', '0', '0', '0', '0', '0', '.'],\n",
       " ['.', '0', '0', '0', '0', '0', '0', '0', '.'],\n",
       " ['.', '.', '0', '0', '0', '0', '0', '.', '.'],\n",
       " ['.', '.', '.', '0', '0', '0', '.', '.', '.'],\n",
       " ['.', '.', '.', '.', '0', '.', '.', '.', '.']]"
      ]
     },
     "execution_count": 10,
     "metadata": {},
     "output_type": "execute_result"
    }
   ],
   "source": [
    "transpose"
   ]
  },
  {
   "cell_type": "code",
   "execution_count": 11,
   "metadata": {},
   "outputs": [],
   "source": [
    "grid=[['.','.','.','.','.','.'],\n",
    "['.','0','0','.','.','.'],\n",
    "['0','0','0','0','.','.'],\n",
    "['0','0','0','0','0','.'],\n",
    "['.','0','0','0','0','0'],\n",
    "['0','0','0','0','0','.'],\n",
    "['0','0','0','0','.','.'],\n",
    "['.','0','0','.','.','.'],\n",
    "['.','.','.','.','.','.']] \n"
   ]
  },
  {
   "cell_type": "code",
   "execution_count": 12,
   "metadata": {},
   "outputs": [
    {
     "data": {
      "text/plain": [
       "[[0, 0, 0, 0, 0, 0, 0, 0, 0],\n",
       " [0, 0, 0, 0, 0, 0, 0, 0, 0],\n",
       " [0, 0, 0, 0, 0, 0, 0, 0, 0],\n",
       " [0, 0, 0, 0, 0, 0, 0, 0, 0],\n",
       " [0, 0, 0, 0, 0, 0, 0, 0, 0],\n",
       " [0, 0, 0, 0, 0, 0, 0, 0, 0]]"
      ]
     },
     "execution_count": 12,
     "metadata": {},
     "output_type": "execute_result"
    }
   ],
   "source": [
    "rows, cols = (6, 9) \n",
    "transpose = [[0]*cols]*rows\n",
    "transpose"
   ]
  },
  {
   "cell_type": "markdown",
   "metadata": {},
   "source": [
    "# method 4"
   ]
  },
  {
   "cell_type": "code",
   "execution_count": 13,
   "metadata": {},
   "outputs": [
    {
     "name": "stdout",
     "output_type": "stream",
     "text": [
      "['.', '.', '0', '0', '.', '0', '0', '.', '.']\n",
      "['.', '0', '0', '0', '0', '0', '0', '0', '.']\n",
      "['.', '0', '0', '0', '0', '0', '0', '0', '.']\n",
      "['.', '.', '0', '0', '0', '0', '0', '.', '.']\n",
      "['.', '.', '.', '0', '0', '0', '.', '.', '.']\n",
      "['.', '.', '.', '.', '0', '.', '.', '.', '.']\n"
     ]
    }
   ],
   "source": [
    "for i in range(len(grid[0])):\n",
    "    for j in range(len(grid)):\n",
    "        transpose[i][j]= grid[j][i]\n",
    "    print(transpose[i])"
   ]
  },
  {
   "cell_type": "code",
   "execution_count": 14,
   "metadata": {},
   "outputs": [
    {
     "data": {
      "text/plain": [
       "[['.', '.', '.', '.', '0', '.', '.', '.', '.'],\n",
       " ['.', '.', '.', '.', '0', '.', '.', '.', '.'],\n",
       " ['.', '.', '.', '.', '0', '.', '.', '.', '.'],\n",
       " ['.', '.', '.', '.', '0', '.', '.', '.', '.'],\n",
       " ['.', '.', '.', '.', '0', '.', '.', '.', '.'],\n",
       " ['.', '.', '.', '.', '0', '.', '.', '.', '.']]"
      ]
     },
     "execution_count": 14,
     "metadata": {},
     "output_type": "execute_result"
    }
   ],
   "source": [
    "transpose"
   ]
  },
  {
   "cell_type": "code",
   "execution_count": 15,
   "metadata": {},
   "outputs": [],
   "source": [
    "X = [[1,2],  \n",
    "      [4,5],  \n",
    "     [7,8]]  \n",
    "  \n",
    "result = [[0,0,0],  \n",
    "             [0,0,0]]  \n",
    "  \n",
    "# iterate through rows  \n",
    "for i in range(len(X)):  \n",
    "    for j in range(len(X[0])):  \n",
    "        result[j][i] = X[i][j]  \n",
    "        \n",
    "#for r in result:  \n",
    "   # print(r)  "
   ]
  },
  {
   "cell_type": "code",
   "execution_count": null,
   "metadata": {},
   "outputs": [],
   "source": [
    "result"
   ]
  },
  {
   "cell_type": "code",
   "execution_count": null,
   "metadata": {},
   "outputs": [],
   "source": []
  }
 ],
 "metadata": {
  "kernelspec": {
   "display_name": "Python 3",
   "language": "python",
   "name": "python3"
  },
  "language_info": {
   "codemirror_mode": {
    "name": "ipython",
    "version": 3
   },
   "file_extension": ".py",
   "mimetype": "text/x-python",
   "name": "python",
   "nbconvert_exporter": "python",
   "pygments_lexer": "ipython3",
   "version": "3.7.0"
  }
 },
 "nbformat": 4,
 "nbformat_minor": 2
}
