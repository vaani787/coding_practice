{
 "cells": [
  {
   "cell_type": "markdown",
   "metadata": {},
   "source": [
    "# Target Marbles problem"
   ]
  },
  {
   "cell_type": "raw",
   "metadata": {},
   "source": [
    "At CodingNinjas, we love to play with marbles. We have many marble games, but the most popular one is “Target Marbles”. Now, our marbles are unique. Each marble has a number on it.\n",
    "In Target Marbles, the player is given a number in the starting and this number is called target. The player is also given N number of marbles to play with. Now, player has to arrange the marbles in a specific way such that sum of the values of at least one of the continuous subset of the arrangement is equal to given target.\n",
    "Now, NinjaCoder came to play this game and made an arrangement of marbles. The judges of the game need your help. You have to determine if NinjaCoder has won it or not."
   ]
  },
  {
   "cell_type": "code",
   "execution_count": null,
   "metadata": {},
   "outputs": [],
   "source": []
  },
  {
   "cell_type": "code",
   "execution_count": null,
   "metadata": {},
   "outputs": [],
   "source": [
    "print('hello world')"
   ]
  },
  {
   "cell_type": "code",
   "execution_count": null,
   "metadata": {},
   "outputs": [],
   "source": [
    "n=int(input())\n",
    "target= int(input())\n",
    "a=[]\n",
    "\n",
    "for i in range(n):\n",
    "    a.append(int(input()))"
   ]
  },
  {
   "cell_type": "code",
   "execution_count": null,
   "metadata": {},
   "outputs": [],
   "source": [
    "a"
   ]
  },
  {
   "cell_type": "code",
   "execution_count": null,
   "metadata": {},
   "outputs": [],
   "source": [
    "Sum=0\n",
    "start=0\n",
    "while(True):\n",
    "    \n",
    "    for i in range(start,n):\n",
    "\n",
    "        #if(i==n-1):\n",
    "            #print(\"False\")\n",
    "            #break\n",
    "            \n",
    "        Sum = Sum + a[i] \n",
    "        res=[]\n",
    "        if (Sum == target): \n",
    "            \n",
    "            print(\"\\nTrue\") \n",
    "            for j in range(start, i + 1): \n",
    "                res.append(a[j])\n",
    "                #print(a[j], end = \" \")\n",
    "            print(res)\n",
    "  \n",
    "            \n",
    "            break\n",
    "\n",
    "        if (Sum > target): \n",
    "            break\n",
    "            \n",
    "        if(start==n-1):\n",
    "            print(\"False\")\n",
    "        \n",
    "          \n",
    "    Sum = 0\n",
    "    start += 1\n",
    "        "
   ]
  },
  {
   "cell_type": "code",
   "execution_count": 6,
   "metadata": {},
   "outputs": [
    {
     "name": "stdout",
     "output_type": "stream",
     "text": [
      "4\n",
      "5\n"
     ]
    }
   ],
   "source": [
    "x,y= input(),input()"
   ]
  },
  {
   "cell_type": "code",
   "execution_count": 10,
   "metadata": {},
   "outputs": [
    {
     "name": "stdout",
     "output_type": "stream",
     "text": [
      "2 3 4 5 6 \n"
     ]
    }
   ],
   "source": [
    "a= [int(x) for x in input().split()]"
   ]
  },
  {
   "cell_type": "code",
   "execution_count": 11,
   "metadata": {},
   "outputs": [
    {
     "data": {
      "text/plain": [
       "[2, 3, 4, 5, 6]"
      ]
     },
     "execution_count": 11,
     "metadata": {},
     "output_type": "execute_result"
    }
   ],
   "source": [
    "a"
   ]
  },
  {
   "cell_type": "markdown",
   "metadata": {},
   "source": [
    "# Modified"
   ]
  },
  {
   "cell_type": "code",
   "execution_count": 2,
   "metadata": {},
   "outputs": [
    {
     "name": "stdout",
     "output_type": "stream",
     "text": [
      "5 12\n",
      "2 3 4 7 8 \n",
      "false\n"
     ]
    }
   ],
   "source": [
    "inp = [int(x) for x in input().split()]\n",
    "n , target = inp[0] , inp[1]\n",
    "a = [int(x) for x in input().split()]\n",
    "\n",
    "Sum=0\n",
    "start=0\n",
    "flag = False\n",
    "while(True):\n",
    "    \n",
    "    for i in range(start,n):\n",
    "\n",
    "            \n",
    "        Sum = Sum + a[i] \n",
    "        res=[]\n",
    "        if (Sum == target): \n",
    "            \n",
    "            print(\"\\ntrue\") \n",
    "            for j in range(start, i + 1): \n",
    "                res.append(a[j])\n",
    "                #print(a[j], end = \" \")\n",
    "            for i in res:\n",
    "                print(i , end= ' ')\n",
    "  \n",
    "            flag = True\n",
    "            break\n",
    "\n",
    "        if (Sum > target): \n",
    "            break\n",
    "    if flag:\n",
    "        break\n",
    "    if(start==n-1):\n",
    "            print(\"false\")\n",
    "            flag = True\n",
    "        \n",
    "   \n",
    "    Sum = 0\n",
    "    start += 1"
   ]
  },
  {
   "cell_type": "code",
   "execution_count": null,
   "metadata": {},
   "outputs": [],
   "source": []
  }
 ],
 "metadata": {
  "kernelspec": {
   "display_name": "Python 3",
   "language": "python",
   "name": "python3"
  },
  "language_info": {
   "codemirror_mode": {
    "name": "ipython",
    "version": 3
   },
   "file_extension": ".py",
   "mimetype": "text/x-python",
   "name": "python",
   "nbconvert_exporter": "python",
   "pygments_lexer": "ipython3",
   "version": "3.7.0"
  },
  "toc": {
   "nav_menu": {},
   "number_sections": true,
   "sideBar": true,
   "skip_h1_title": false,
   "toc_cell": false,
   "toc_position": {},
   "toc_section_display": "block",
   "toc_window_display": false
  },
  "varInspector": {
   "cols": {
    "lenName": 16,
    "lenType": 16,
    "lenVar": 40
   },
   "kernels_config": {
    "python": {
     "delete_cmd_postfix": "",
     "delete_cmd_prefix": "del ",
     "library": "var_list.py",
     "varRefreshCmd": "print(var_dic_list())"
    },
    "r": {
     "delete_cmd_postfix": ") ",
     "delete_cmd_prefix": "rm(",
     "library": "var_list.r",
     "varRefreshCmd": "cat(var_dic_list()) "
    }
   },
   "types_to_exclude": [
    "module",
    "function",
    "builtin_function_or_method",
    "instance",
    "_Feature"
   ],
   "window_display": false
  }
 },
 "nbformat": 4,
 "nbformat_minor": 2
}
